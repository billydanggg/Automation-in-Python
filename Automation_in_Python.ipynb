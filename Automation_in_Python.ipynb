{
 "cells": [
  {
   "cell_type": "markdown",
   "id": "10c6b15c-bfc4-4cdd-95b7-d9c65b189155",
   "metadata": {},
   "source": [
    "# Automation & Webscraping in Python \n",
    "In the following project, I do a full walkthrough of freeCodeCamp's [*Automate with Python - Full Course for Beginners*](https://www.youtube.com/watch?v=PXMJ6FS7llk) tutorial where they go over the essentials topics of web scraping across various formats (HTML, CSV, PDF) using different Python libraries to help with automation (Path, Selenium, Xpath, etc.). It is important to note that this video is 3 years old and slight adjustments may have been made to the data sources, libaries, and methodologies. Ultimately, I'm simply doing this for personal practice and education, where I hope to apply any useful teachings into my own workflow-whether that be through automating news extraction, sending texts, excel reports, or more."
   ]
  },
  {
   "cell_type": "code",
   "execution_count": 1,
   "id": "5278a72f-96f4-4de5-93c4-ef7d366e99f3",
   "metadata": {},
   "outputs": [],
   "source": [
    "#pip install wikipedia-api\n",
    "#pip install pandas\n",
    "#pip install tk\n",
    "#pip install ghostscript\n",
    "#pip install camelot-py\n",
    "#pip install selenium"
   ]
  },
  {
   "cell_type": "code",
   "execution_count": 59,
   "id": "14ea391c-baed-4a91-9e29-50f6fdf5e54c",
   "metadata": {},
   "outputs": [],
   "source": [
    "#Dependencies\n",
    "import pandas as pd\n",
    "import wikipediaapi as wik\n",
    "import camelot\n",
    "import os\n",
    "import selenium"
   ]
  },
  {
   "cell_type": "markdown",
   "id": "6282cb8e-538c-484c-8ec0-8032497b01ae",
   "metadata": {},
   "source": [
    "## Scraping Wikipedia Page"
   ]
  },
  {
   "cell_type": "code",
   "execution_count": 6,
   "id": "e7c482f7-1d07-4ec7-96e7-e6f888ebd7bc",
   "metadata": {},
   "outputs": [],
   "source": [
    "#Extract info from website - this is depracated\n",
    "#   nba_2024 = pd.read_html(\"https://en.wikipedia.org/wiki/2024%E2%80%9325_NBA_season\")"
   ]
  },
  {
   "cell_type": "markdown",
   "id": "ecc222cc-f8ab-4b6d-a7d7-45e9239b11cb",
   "metadata": {},
   "source": [
    "The [tutorial](https://www.youtube.com/watch?v=PXMJ6FS7llk&t=140s) suggested scraping the Wikipedia page using the pands '.read_html' function but this is blocked and outputs **HTTP Error 403: Forbidden** another workaround will be used.\n",
    "> To scrape Wikipedia I will be using the following **wikipedia-api** library found [here](https://pypi.org/project/Wikipedia-API/)"
   ]
  },
  {
   "cell_type": "markdown",
   "id": "f5b56bfe-23ee-4d5a-9a55-4d70c7d4668e",
   "metadata": {},
   "source": [
    "#### Initializing & Getting Page\n",
    "Here I'll start by initializing our wikipedia object and specifying which page I want. The object requires a user-agent specification following the general rules provided by Wikipedia themselves [here](https://foundation.wikimedia.org/wiki/Policy:Wikimedia_Foundation_User-Agent_Policy). They do this in order to prevent 'misbehaving' scripts that can be harmful to their site (too many requests that cause unnessesary load), the generic format is as follows: **\"client name/version (contact information) library/framework name/version\"**."
   ]
  },
  {
   "cell_type": "code",
   "execution_count": 7,
   "id": "a5c16500-8fc0-41eb-a4cf-1a3c4251ef43",
   "metadata": {},
   "outputs": [
    {
     "name": "stdout",
     "output_type": "stream",
     "text": [
      "True\n"
     ]
    }
   ],
   "source": [
    "wiki_init = wik.Wikipedia(user_agent = 'personalproj (billyhdang@gmail.com) wikipedia-api/0.8.1', language = 'en')\n",
    "page_parse = wiki_init.page('2024–25_NBA_season')\n",
    "print(page_parse.exists()) #Checking page existence "
   ]
  },
  {
   "cell_type": "code",
   "execution_count": 8,
   "id": "6d0ae43b-ad42-4dd4-a5fd-2a48d594372a",
   "metadata": {},
   "outputs": [
    {
     "data": {
      "text/plain": [
       "\"In addition to regular preseason games hosted at NBA teams' own arenas, the NBA often hosts neutral site preseason games (either in domestic non-NBA markets or foreign markets) or against non-NBA teams. Listed below are only those neutral site or preseason games.\""
      ]
     },
     "execution_count": 8,
     "metadata": {},
     "output_type": "execute_result"
    }
   ],
   "source": [
    "page_parse.sections[1].text"
   ]
  },
  {
   "cell_type": "code",
   "execution_count": 9,
   "id": "b962351f-c2fa-4328-a1a5-d1c1b2fac9a1",
   "metadata": {},
   "outputs": [
    {
     "data": {
      "text/plain": [
       "Section: Preseason (1):\n",
       "In addition to regular preseason games hosted at NBA teams' own arenas, the NBA often hosts neutral site preseason games (either in domestic non-NBA markets or foreign markets) or against non-NBA teams. Listed below are only those neutral site or preseason games.\n",
       "Subsections (3):\n",
       "Section: Domestic neutral site games (2):\n",
       "\n",
       "Subsections (0):\n",
       "\n",
       "Section: International games (2):\n",
       "\n",
       "Subsections (0):\n",
       "\n",
       "Section: Non-NBA opponents (2):\n",
       "\n",
       "Subsections (0):"
      ]
     },
     "execution_count": 9,
     "metadata": {},
     "output_type": "execute_result"
    }
   ],
   "source": [
    "page_parse.sections[1]"
   ]
  },
  {
   "cell_type": "markdown",
   "id": "94738235-4a83-4d67-adca-5643c2ee1cfe",
   "metadata": {},
   "source": [
    "> Note, this API has limitations as it only returns the HTML markup of certain things such as tables which are often what we want."
   ]
  },
  {
   "cell_type": "markdown",
   "id": "d8782f0c-5ee1-4438-8199-3076f3303274",
   "metadata": {},
   "source": [
    "## Reading .csv Files from URL using Pandas"
   ]
  },
  {
   "cell_type": "code",
   "execution_count": 10,
   "id": "3af408b8-8dd2-46e4-830b-5f743f597897",
   "metadata": {},
   "outputs": [
    {
     "data": {
      "text/html": [
       "<div>\n",
       "<style scoped>\n",
       "    .dataframe tbody tr th:only-of-type {\n",
       "        vertical-align: middle;\n",
       "    }\n",
       "\n",
       "    .dataframe tbody tr th {\n",
       "        vertical-align: top;\n",
       "    }\n",
       "\n",
       "    .dataframe thead th {\n",
       "        text-align: right;\n",
       "    }\n",
       "</style>\n",
       "<table border=\"1\" class=\"dataframe\">\n",
       "  <thead>\n",
       "    <tr style=\"text-align: right;\">\n",
       "      <th></th>\n",
       "      <th>Div</th>\n",
       "      <th>Date</th>\n",
       "      <th>Time</th>\n",
       "      <th>HomeTeam</th>\n",
       "      <th>AwayTeam</th>\n",
       "      <th>FTHG</th>\n",
       "      <th>FTAG</th>\n",
       "      <th>FTR</th>\n",
       "      <th>HTHG</th>\n",
       "      <th>HTAG</th>\n",
       "      <th>...</th>\n",
       "      <th>B365CAHH</th>\n",
       "      <th>B365CAHA</th>\n",
       "      <th>PCAHH</th>\n",
       "      <th>PCAHA</th>\n",
       "      <th>MaxCAHH</th>\n",
       "      <th>MaxCAHA</th>\n",
       "      <th>AvgCAHH</th>\n",
       "      <th>AvgCAHA</th>\n",
       "      <th>BFECAHH</th>\n",
       "      <th>BFECAHA</th>\n",
       "    </tr>\n",
       "  </thead>\n",
       "  <tbody>\n",
       "    <tr>\n",
       "      <th>0</th>\n",
       "      <td>E0</td>\n",
       "      <td>16/08/2024</td>\n",
       "      <td>20:00</td>\n",
       "      <td>Man United</td>\n",
       "      <td>Fulham</td>\n",
       "      <td>1</td>\n",
       "      <td>0</td>\n",
       "      <td>H</td>\n",
       "      <td>0</td>\n",
       "      <td>0</td>\n",
       "      <td>...</td>\n",
       "      <td>1.86</td>\n",
       "      <td>2.07</td>\n",
       "      <td>1.83</td>\n",
       "      <td>2.11</td>\n",
       "      <td>1.88</td>\n",
       "      <td>2.11</td>\n",
       "      <td>1.82</td>\n",
       "      <td>2.05</td>\n",
       "      <td>1.90</td>\n",
       "      <td>2.08</td>\n",
       "    </tr>\n",
       "    <tr>\n",
       "      <th>1</th>\n",
       "      <td>E0</td>\n",
       "      <td>17/08/2024</td>\n",
       "      <td>12:30</td>\n",
       "      <td>Ipswich</td>\n",
       "      <td>Liverpool</td>\n",
       "      <td>0</td>\n",
       "      <td>2</td>\n",
       "      <td>A</td>\n",
       "      <td>0</td>\n",
       "      <td>0</td>\n",
       "      <td>...</td>\n",
       "      <td>2.05</td>\n",
       "      <td>1.88</td>\n",
       "      <td>2.04</td>\n",
       "      <td>1.90</td>\n",
       "      <td>2.20</td>\n",
       "      <td>2.00</td>\n",
       "      <td>1.99</td>\n",
       "      <td>1.88</td>\n",
       "      <td>2.04</td>\n",
       "      <td>1.93</td>\n",
       "    </tr>\n",
       "    <tr>\n",
       "      <th>2</th>\n",
       "      <td>E0</td>\n",
       "      <td>17/08/2024</td>\n",
       "      <td>15:00</td>\n",
       "      <td>Arsenal</td>\n",
       "      <td>Wolves</td>\n",
       "      <td>2</td>\n",
       "      <td>0</td>\n",
       "      <td>H</td>\n",
       "      <td>1</td>\n",
       "      <td>0</td>\n",
       "      <td>...</td>\n",
       "      <td>2.02</td>\n",
       "      <td>1.91</td>\n",
       "      <td>2.00</td>\n",
       "      <td>1.90</td>\n",
       "      <td>2.05</td>\n",
       "      <td>1.93</td>\n",
       "      <td>1.99</td>\n",
       "      <td>1.87</td>\n",
       "      <td>2.02</td>\n",
       "      <td>1.96</td>\n",
       "    </tr>\n",
       "  </tbody>\n",
       "</table>\n",
       "<p>3 rows × 120 columns</p>\n",
       "</div>"
      ],
      "text/plain": [
       "  Div        Date   Time    HomeTeam   AwayTeam  FTHG  FTAG FTR  HTHG  HTAG  \\\n",
       "0  E0  16/08/2024  20:00  Man United     Fulham     1     0   H     0     0   \n",
       "1  E0  17/08/2024  12:30     Ipswich  Liverpool     0     2   A     0     0   \n",
       "2  E0  17/08/2024  15:00     Arsenal     Wolves     2     0   H     1     0   \n",
       "\n",
       "   ... B365CAHH B365CAHA  PCAHH  PCAHA  MaxCAHH  MaxCAHA  AvgCAHH  AvgCAHA  \\\n",
       "0  ...     1.86     2.07   1.83   2.11     1.88     2.11     1.82     2.05   \n",
       "1  ...     2.05     1.88   2.04   1.90     2.20     2.00     1.99     1.88   \n",
       "2  ...     2.02     1.91   2.00   1.90     2.05     1.93     1.99     1.87   \n",
       "\n",
       "   BFECAHH  BFECAHA  \n",
       "0     1.90     2.08  \n",
       "1     2.04     1.93  \n",
       "2     2.02     1.96  \n",
       "\n",
       "[3 rows x 120 columns]"
      ]
     },
     "execution_count": 10,
     "metadata": {},
     "output_type": "execute_result"
    }
   ],
   "source": [
    "#Read CSV file from Football-data\n",
    "premleague_2024 = pd.read_csv(\"https://www.football-data.co.uk/mmz4281/2425/E0.csv\")\n",
    "premleague_2024.head(3)"
   ]
  },
  {
   "cell_type": "code",
   "execution_count": 11,
   "id": "20e6b336-d848-471c-9d9d-913802e0e67f",
   "metadata": {},
   "outputs": [
    {
     "name": "stdout",
     "output_type": "stream",
     "text": [
      "['Div' 'Date' 'Time' 'HomeTeam' 'AwayTeam' 'FTHG' 'FTAG' 'FTR' 'HTHG'\n",
      " 'HTAG' 'HTR' 'Referee' 'HS' 'AS' 'HST' 'AST' 'HF' 'AF' 'HC' 'AC' 'HY'\n",
      " 'AY' 'HR' 'AR' 'B365H' 'B365D' 'B365A' 'BWH' 'BWD' 'BWA' 'BFH' 'BFD'\n",
      " 'BFA' 'PSH' 'PSD' 'PSA' 'WHH' 'WHD' 'WHA' '1XBH' '1XBD' '1XBA' 'MaxH'\n",
      " 'MaxD' 'MaxA' 'AvgH' 'AvgD' 'AvgA' 'BFEH' 'BFED' 'BFEA' 'B365>2.5'\n",
      " 'B365<2.5' 'P>2.5' 'P<2.5' 'Max>2.5' 'Max<2.5' 'Avg>2.5' 'Avg<2.5'\n",
      " 'BFE>2.5' 'BFE<2.5' 'AHh' 'B365AHH' 'B365AHA' 'PAHH' 'PAHA' 'MaxAHH'\n",
      " 'MaxAHA' 'AvgAHH' 'AvgAHA' 'BFEAHH' 'BFEAHA' 'B365CH' 'B365CD' 'B365CA'\n",
      " 'BWCH' 'BWCD' 'BWCA' 'BFCH' 'BFCD' 'BFCA' 'PSCH' 'PSCD' 'PSCA' 'WHCH'\n",
      " 'WHCD' 'WHCA' '1XBCH' '1XBCD' '1XBCA' 'MaxCH' 'MaxCD' 'MaxCA' 'AvgCH'\n",
      " 'AvgCD' 'AvgCA' 'BFECH' 'BFECD' 'BFECA' 'B365C>2.5' 'B365C<2.5' 'PC>2.5'\n",
      " 'PC<2.5' 'MaxC>2.5' 'MaxC<2.5' 'AvgC>2.5' 'AvgC<2.5' 'BFEC>2.5'\n",
      " 'BFEC<2.5' 'AHCh' 'B365CAHH' 'B365CAHA' 'PCAHH' 'PCAHA' 'MaxCAHH'\n",
      " 'MaxCAHA' 'AvgCAHH' 'AvgCAHA' 'BFECAHH' 'BFECAHA']\n"
     ]
    }
   ],
   "source": [
    "features = (premleague_2024.columns.values)\n",
    "print(features)"
   ]
  },
  {
   "cell_type": "markdown",
   "id": "4ec4f140-e298-4b84-add0-5e613ad6f7ba",
   "metadata": {},
   "source": [
    "> There are alot of ambiguous columns here, I'll rename a couple to clarify"
   ]
  },
  {
   "cell_type": "code",
   "execution_count": 12,
   "id": "4b00fda0-d39e-4cd7-97a8-5b0d6adc4700",
   "metadata": {},
   "outputs": [
    {
     "data": {
      "text/html": [
       "<div>\n",
       "<style scoped>\n",
       "    .dataframe tbody tr th:only-of-type {\n",
       "        vertical-align: middle;\n",
       "    }\n",
       "\n",
       "    .dataframe tbody tr th {\n",
       "        vertical-align: top;\n",
       "    }\n",
       "\n",
       "    .dataframe thead th {\n",
       "        text-align: right;\n",
       "    }\n",
       "</style>\n",
       "<table border=\"1\" class=\"dataframe\">\n",
       "  <thead>\n",
       "    <tr style=\"text-align: right;\">\n",
       "      <th></th>\n",
       "      <th>Div</th>\n",
       "      <th>Date</th>\n",
       "      <th>Time</th>\n",
       "      <th>HomeTeam</th>\n",
       "      <th>AwayTeam</th>\n",
       "      <th>home_goals</th>\n",
       "      <th>away_goals</th>\n",
       "      <th>winner</th>\n",
       "      <th>HTHG</th>\n",
       "      <th>HTAG</th>\n",
       "      <th>...</th>\n",
       "      <th>B365CAHH</th>\n",
       "      <th>B365CAHA</th>\n",
       "      <th>PCAHH</th>\n",
       "      <th>PCAHA</th>\n",
       "      <th>MaxCAHH</th>\n",
       "      <th>MaxCAHA</th>\n",
       "      <th>AvgCAHH</th>\n",
       "      <th>AvgCAHA</th>\n",
       "      <th>BFECAHH</th>\n",
       "      <th>BFECAHA</th>\n",
       "    </tr>\n",
       "  </thead>\n",
       "  <tbody>\n",
       "    <tr>\n",
       "      <th>0</th>\n",
       "      <td>E0</td>\n",
       "      <td>16/08/2024</td>\n",
       "      <td>20:00</td>\n",
       "      <td>Man United</td>\n",
       "      <td>Fulham</td>\n",
       "      <td>1</td>\n",
       "      <td>0</td>\n",
       "      <td>H</td>\n",
       "      <td>0</td>\n",
       "      <td>0</td>\n",
       "      <td>...</td>\n",
       "      <td>1.86</td>\n",
       "      <td>2.07</td>\n",
       "      <td>1.83</td>\n",
       "      <td>2.11</td>\n",
       "      <td>1.88</td>\n",
       "      <td>2.11</td>\n",
       "      <td>1.82</td>\n",
       "      <td>2.05</td>\n",
       "      <td>1.90</td>\n",
       "      <td>2.08</td>\n",
       "    </tr>\n",
       "    <tr>\n",
       "      <th>1</th>\n",
       "      <td>E0</td>\n",
       "      <td>17/08/2024</td>\n",
       "      <td>12:30</td>\n",
       "      <td>Ipswich</td>\n",
       "      <td>Liverpool</td>\n",
       "      <td>0</td>\n",
       "      <td>2</td>\n",
       "      <td>A</td>\n",
       "      <td>0</td>\n",
       "      <td>0</td>\n",
       "      <td>...</td>\n",
       "      <td>2.05</td>\n",
       "      <td>1.88</td>\n",
       "      <td>2.04</td>\n",
       "      <td>1.90</td>\n",
       "      <td>2.20</td>\n",
       "      <td>2.00</td>\n",
       "      <td>1.99</td>\n",
       "      <td>1.88</td>\n",
       "      <td>2.04</td>\n",
       "      <td>1.93</td>\n",
       "    </tr>\n",
       "  </tbody>\n",
       "</table>\n",
       "<p>2 rows × 120 columns</p>\n",
       "</div>"
      ],
      "text/plain": [
       "  Div        Date   Time    HomeTeam   AwayTeam  home_goals  away_goals  \\\n",
       "0  E0  16/08/2024  20:00  Man United     Fulham           1           0   \n",
       "1  E0  17/08/2024  12:30     Ipswich  Liverpool           0           2   \n",
       "\n",
       "  winner  HTHG  HTAG  ... B365CAHH B365CAHA  PCAHH  PCAHA  MaxCAHH  MaxCAHA  \\\n",
       "0      H     0     0  ...     1.86     2.07   1.83   2.11     1.88     2.11   \n",
       "1      A     0     0  ...     2.05     1.88   2.04   1.90     2.20     2.00   \n",
       "\n",
       "   AvgCAHH  AvgCAHA  BFECAHH  BFECAHA  \n",
       "0     1.82     2.05     1.90     2.08  \n",
       "1     1.99     1.88     2.04     1.93  \n",
       "\n",
       "[2 rows x 120 columns]"
      ]
     },
     "execution_count": 12,
     "metadata": {},
     "output_type": "execute_result"
    }
   ],
   "source": [
    "premleague_2024.rename(columns = {'FTHG':'home_goals',\n",
    "                                 'FTAG': 'away_goals', \n",
    "                                 'FTR': 'winner', \n",
    "                                 }, inplace = True)\n",
    "premleague_2024.head(2)"
   ]
  },
  {
   "cell_type": "markdown",
   "id": "cd7aa3f6-c1e1-4647-b584-b5febf4b5783",
   "metadata": {},
   "source": [
    "## Extracting Tables from PDFs\n",
    "Here we'll use the camelot-py library in order to grab tables from PDFs, which can be useful for clear research papers with various table types and formats."
   ]
  },
  {
   "cell_type": "code",
   "execution_count": 46,
   "id": "fa66910a-4929-4b8c-aeb4-165089600932",
   "metadata": {},
   "outputs": [
    {
     "name": "stdout",
     "output_type": "stream",
     "text": [
      "<TableList n=1>\n"
     ]
    }
   ],
   "source": [
    "tables = camelot.read_pdf('data/player_research_paper.pdf', pages = '5')\n",
    "print(tables)"
   ]
  },
  {
   "cell_type": "code",
   "execution_count": 47,
   "id": "e25a512d-4ecf-4bc8-8ef6-dcf7fbc3efc4",
   "metadata": {},
   "outputs": [],
   "source": [
    "tables.export('research_table', f='csv', compress = True)\n",
    "tables[0].to_csv('movement_analysis_table.csv')"
   ]
  },
  {
   "cell_type": "code",
   "execution_count": 51,
   "id": "92d481a3-7e2e-408c-89e8-cfc5ba072b32",
   "metadata": {},
   "outputs": [
    {
     "data": {
      "text/html": [
       "<div>\n",
       "<style scoped>\n",
       "    .dataframe tbody tr th:only-of-type {\n",
       "        vertical-align: middle;\n",
       "    }\n",
       "\n",
       "    .dataframe tbody tr th {\n",
       "        vertical-align: top;\n",
       "    }\n",
       "\n",
       "    .dataframe thead th {\n",
       "        text-align: right;\n",
       "    }\n",
       "</style>\n",
       "<table border=\"1\" class=\"dataframe\">\n",
       "  <thead>\n",
       "    <tr style=\"text-align: right;\">\n",
       "      <th></th>\n",
       "      <th>Complex\\nDeﬁnition\\nAnalytical methodology\\nExample\\nfrom\\nHow does it\\ninﬂuence practice?\\nsystems\\nthe literature\\nfeature</th>\n",
       "      <th>Unnamed: 1</th>\n",
       "      <th>Unnamed: 2</th>\n",
       "      <th>Unnamed: 3</th>\n",
       "      <th>Unnamed: 4</th>\n",
       "    </tr>\n",
       "  </thead>\n",
       "  <tbody>\n",
       "    <tr>\n",
       "      <th>0</th>\n",
       "      <td>Feedback</td>\n",
       "      <td>When the output of a process inﬂuences an\\ninp...</td>\n",
       "      <td>Decision tree classiﬁcation</td>\n",
       "      <td>Shot classiﬁcation\\n(157)</td>\n",
       "      <td>An increase in running load during\\ncompetitio...</td>\n",
       "    </tr>\n",
       "    <tr>\n",
       "      <th>1</th>\n",
       "      <td>Emergence</td>\n",
       "      <td>New, unexpected properties that arise from\\nth...</td>\n",
       "      <td>Shannon entropy</td>\n",
       "      <td>Particles (158)</td>\n",
       "      <td>The development of novel ball movement\\npatter...</td>\n",
       "    </tr>\n",
       "    <tr>\n",
       "      <th>2</th>\n",
       "      <td>Self-organisation</td>\n",
       "      <td>The autonomous organisation of subgroups\\nor i...</td>\n",
       "      <td>Centrality, ﬂocking motion\\nmodels</td>\n",
       "      <td>Ornithology (159)</td>\n",
       "      <td>An attacking unit alters their movement\\nwitho...</td>\n",
       "    </tr>\n",
       "  </tbody>\n",
       "</table>\n",
       "</div>"
      ],
      "text/plain": [
       "  Complex\\nDeﬁnition\\nAnalytical methodology\\nExample\\nfrom\\nHow does it\\ninﬂuence practice?\\nsystems\\nthe literature\\nfeature  \\\n",
       "0                                           Feedback                                                                             \n",
       "1                                          Emergence                                                                             \n",
       "2                                  Self-organisation                                                                             \n",
       "\n",
       "                                          Unnamed: 1  \\\n",
       "0  When the output of a process inﬂuences an\\ninp...   \n",
       "1  New, unexpected properties that arise from\\nth...   \n",
       "2  The autonomous organisation of subgroups\\nor i...   \n",
       "\n",
       "                           Unnamed: 2                 Unnamed: 3  \\\n",
       "0         Decision tree classiﬁcation  Shot classiﬁcation\\n(157)   \n",
       "1                     Shannon entropy            Particles (158)   \n",
       "2  Centrality, ﬂocking motion\\nmodels          Ornithology (159)   \n",
       "\n",
       "                                          Unnamed: 4  \n",
       "0  An increase in running load during\\ncompetitio...  \n",
       "1  The development of novel ball movement\\npatter...  \n",
       "2  An attacking unit alters their movement\\nwitho...  "
      ]
     },
     "execution_count": 51,
     "metadata": {},
     "output_type": "execute_result"
    }
   ],
   "source": [
    "research_table = pd.read_csv('movement_analysis_table.csv')\n",
    "research_table.head(3)"
   ]
  },
  {
   "cell_type": "markdown",
   "id": "64599f7c-a8f1-40ec-9ef0-8c9bbaeb85b8",
   "metadata": {},
   "source": [
    "> It clearly did not parse the headers correctly so further manual adjust would be needed"
   ]
  },
  {
   "cell_type": "markdown",
   "id": "733ab025-57af-483d-b388-1ad07165ed09",
   "metadata": {},
   "source": [
    "## Scraping Websites using Selenium\n",
    "This will require the installation of ChromeDriver and Selenium. For ChromeDriver, you'll need to head [here](https://developer.chrome.com/docs/chromedriver) for more instructions on the download after you check which version of Chrome you are on (which can be found in the 'Help' section of your browser. Selenium will be done through just a pip install."
   ]
  },
  {
   "cell_type": "code",
   "execution_count": null,
   "id": "09920f71-8a27-4b7d-9be8-9ea59707042b",
   "metadata": {},
   "outputs": [],
   "source": []
  }
 ],
 "metadata": {
  "kernelspec": {
   "display_name": "Python 3 (ipykernel)",
   "language": "python",
   "name": "python3"
  },
  "language_info": {
   "codemirror_mode": {
    "name": "ipython",
    "version": 3
   },
   "file_extension": ".py",
   "mimetype": "text/x-python",
   "name": "python",
   "nbconvert_exporter": "python",
   "pygments_lexer": "ipython3",
   "version": "3.11.7"
  }
 },
 "nbformat": 4,
 "nbformat_minor": 5
}
